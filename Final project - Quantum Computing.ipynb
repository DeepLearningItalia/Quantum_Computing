{
 "cells": [
  {
   "cell_type": "markdown",
   "metadata": {
    "id": "hjEizdwMLmG_"
   },
   "source": [
    "# Final Project - Quantum Computing"
   ]
  },
  {
   "cell_type": "markdown",
   "metadata": {
    "id": "VhNLvzmbKxTl"
   },
   "source": [
    "Hello student, Congratulations for completing the e-learning course on Quantum Computing!\n",
    "\n",
    "In this final project, you will be asked to implement and train a Quantum Machine Learning algorithm to solve a classification problem using the Qiskit framework.\n",
    "In particular, the Qiskit framework already contains the Quantum Support Vector Machine (QSVM) implementation, which allows solving a classification problem requiring a feature map for which computing the kernel is extremely hard classically. The method falls in the context of supervised learning, consisting of a training phase, where the kernel is calculated, and the support vectors obtained and a classification phase, where new unlabeled data is classified according to the trained algorithm.\n",
    "\n",
    "Specifically, your goals are:\n",
    "1.   Read about the [Quantum Support Vector Machine](https://arxiv.org/pdf/1804.11326.pdf) and look at the correspondent [implementation on qiskit](https://qiskit.org/documentation/tutorials/machine_learning/02_qsvm_multiclass.html?highlight=qsvm)\n",
    "2. Import Iris dataset and consider a small subsample of it\n",
    "3. Split the dataset into training and test set\n",
    "4. Train the QSVM\n",
    "5. Test the performance of the trained QSVM in the test set\n",
    "\n"
   ]
  },
  {
   "cell_type": "code",
   "execution_count": null,
   "metadata": {
    "id": "DRDqi1bVjWOc"
   },
   "outputs": [],
   "source": []
  }
 ],
 "metadata": {
  "colab": {
   "authorship_tag": "ABX9TyPkK1Kv7kmqRVF843dSOUDY",
   "collapsed_sections": [],
   "name": "DLI - Final Exam - Quantum Computing.ipynb",
   "provenance": []
  },
  "kernelspec": {
   "display_name": "Python 3",
   "language": "python",
   "name": "python3"
  },
  "language_info": {
   "codemirror_mode": {
    "name": "ipython",
    "version": 3
   },
   "file_extension": ".py",
   "mimetype": "text/x-python",
   "name": "python",
   "nbconvert_exporter": "python",
   "pygments_lexer": "ipython3",
   "version": "3.8.3"
  }
 },
 "nbformat": 4,
 "nbformat_minor": 1
}
